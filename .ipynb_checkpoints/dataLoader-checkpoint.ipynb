{
 "cells": [
  {
   "cell_type": "code",
   "execution_count": 19,
   "metadata": {},
   "outputs": [],
   "source": [
    "import os\n",
    "import sys\n",
    "import glob\n",
    "import math\n",
    "import matplotlib.pyplot as plt\n",
    "import argparse\n",
    "import numpy as np\n",
    "from PIL import Image\n",
    "from utils.data_augumentation import Compose, Scale, RandomRotation, RandomMirror, Resize, Normalize_Tensor\n",
    "from torch.utils.data import Dataset, DataLoader\n",
    "from torchvision import transforms, datasets, models\n",
    "from FusionNet import * \n",
    "from UNet import *\n",
    "from resNet_uNet import *"
   ]
  },
  {
   "cell_type": "code",
   "execution_count": 20,
   "metadata": {},
   "outputs": [
    {
     "name": "stdout",
     "output_type": "stream",
     "text": [
      "deta count :  284\n",
      "[('input/DJI_0024_5_1.jpg', 'labels/DJI_0024_5_1.png'), ('input/DJI_0011_8_1.jpg', 'labels/DJI_0011_8_1.png'), ('input/DJI_0011_8_2.jpg', 'labels/DJI_0011_8_2.png'), ('input/DJI_0007_5_3.jpg', 'labels/DJI_0007_5_3.png'), ('input/DJI_0005_6_2.jpg', 'labels/DJI_0005_6_2.png'), ('input/DJI_0020_8_2.jpg', 'labels/DJI_0020_8_2.png'), ('input/DJI_0009_4_1.jpg', 'labels/DJI_0009_4_1.png'), ('input/DJI_0006_8_1.jpg', 'labels/DJI_0006_8_1.png'), ('input/DJI_0011_7_1.jpg', 'labels/DJI_0011_7_1.png'), ('input/DJI_0019_8_1.jpg', 'labels/DJI_0019_8_1.png'), ('input/DJI_0021_5_3.jpg', 'labels/DJI_0021_5_3.png'), ('input/DJI_0025_2_1.jpg', 'labels/DJI_0025_2_1.png'), ('input/DJI_0023_5_1.jpg', 'labels/DJI_0023_5_1.png'), ('input/DJI_0023_7_2.jpg', 'labels/DJI_0023_7_2.png'), ('input/DJI_0024_6_2.jpg', 'labels/DJI_0024_6_2.png'), ('input/DJI_0014_6_2.jpg', 'labels/DJI_0014_6_2.png'), ('input/DJI_0012_3_4.jpg', 'labels/DJI_0012_3_4.png'), ('input/DJI_0022_3_3.jpg', 'labels/DJI_0022_3_3.png'), ('input/DJI_0021_7_6.jpg', 'labels/DJI_0021_7_6.png'), ('input/DJI_0016_6_1.jpg', 'labels/DJI_0016_6_1.png'), ('input/DJI_0024_8_3.jpg', 'labels/DJI_0024_8_3.png'), ('input/DJI_0004_7_2.jpg', 'labels/DJI_0004_7_2.png'), ('input/DJI_0006_8_2.jpg', 'labels/DJI_0006_8_2.png'), ('input/DJI_0017_3_3.jpg', 'labels/DJI_0017_3_3.png'), ('input/DJI_0015_5_2.jpg', 'labels/DJI_0015_5_2.png'), ('input/DJI_0012_8_2.jpg', 'labels/DJI_0012_8_2.png'), ('input/DJI_0016_2_1.jpg', 'labels/DJI_0016_2_1.png'), ('input/DJI_0013_4_2.jpg', 'labels/DJI_0013_4_2.png'), ('input/DJI_0020_7_2.jpg', 'labels/DJI_0020_7_2.png'), ('input/DJI_0008_7_4.jpg', 'labels/DJI_0008_7_4.png'), ('input/DJI_0009_8_2.jpg', 'labels/DJI_0009_8_2.png'), ('input/DJI_0012_2_1.jpg', 'labels/DJI_0012_2_1.png'), ('input/DJI_0009_4_3.jpg', 'labels/DJI_0009_4_3.png'), ('input/DJI_0004_8_2.jpg', 'labels/DJI_0004_8_2.png'), ('input/DJI_0017_8_1.jpg', 'labels/DJI_0017_8_1.png'), ('input/DJI_0009_8_1.jpg', 'labels/DJI_0009_8_1.png'), ('input/DJI_0018_4_5.jpg', 'labels/DJI_0018_4_5.png'), ('input/DJI_0004_3_3.jpg', 'labels/DJI_0004_3_3.png'), ('input/DJI_0022_3_2.jpg', 'labels/DJI_0022_3_2.png'), ('input/DJI_0017_7_2.jpg', 'labels/DJI_0017_7_2.png'), ('input/DJI_0013_7_2.jpg', 'labels/DJI_0013_7_2.png'), ('input/DJI_0007_7_6.jpg', 'labels/DJI_0007_7_6.png'), ('input/DJI_0006_7_3.jpg', 'labels/DJI_0006_7_3.png'), ('input/DJI_0020_1_2.jpg', 'labels/DJI_0020_1_2.png'), ('input/DJI_0022_8_2.jpg', 'labels/DJI_0022_8_2.png'), ('input/DJI_0007_6_3.jpg', 'labels/DJI_0007_6_3.png'), ('input/DJI_0021_7_5.jpg', 'labels/DJI_0021_7_5.png'), ('input/DJI_0007_7_1.jpg', 'labels/DJI_0007_7_1.png'), ('input/DJI_0014_6_1.jpg', 'labels/DJI_0014_6_1.png'), ('input/DJI_0016_3_4.jpg', 'labels/DJI_0016_3_4.png'), ('input/DJI_0020_7_1.jpg', 'labels/DJI_0020_7_1.png'), ('input/DJI_0004_4_3.jpg', 'labels/DJI_0004_4_3.png'), ('input/DJI_0018_3_8.jpg', 'labels/DJI_0018_3_8.png'), ('input/DJI_0009_8_3.jpg', 'labels/DJI_0009_8_3.png'), ('input/DJI_0010_2_1.jpg', 'labels/DJI_0010_2_1.png'), ('input/DJI_0020_8_1.jpg', 'labels/DJI_0020_8_1.png'), ('input/DJI_0016_5_2.jpg', 'labels/DJI_0016_5_2.png'), ('input/DJI_0020_3_2.jpg', 'labels/DJI_0020_3_2.png'), ('input/DJI_0015_6_1.jpg', 'labels/DJI_0015_6_1.png'), ('input/DJI_0024_1_2.jpg', 'labels/DJI_0024_1_2.png'), ('input/DJI_0020_4_2.jpg', 'labels/DJI_0020_4_2.png'), ('input/DJI_0019_4_3.jpg', 'labels/DJI_0019_4_3.png'), ('input/DJI_0010_4_2.jpg', 'labels/DJI_0010_4_2.png'), ('input/DJI_0013_4_1.jpg', 'labels/DJI_0013_4_1.png'), ('input/DJI_0013_8_2.jpg', 'labels/DJI_0013_8_2.png'), ('input/DJI_0008_7_2.jpg', 'labels/DJI_0008_7_2.png'), ('input/DJI_0009_4_2.jpg', 'labels/DJI_0009_4_2.png'), ('input/DJI_0005_8_2.jpg', 'labels/DJI_0005_8_2.png'), ('input/DJI_0005_5_1.jpg', 'labels/DJI_0005_5_1.png'), ('input/DJI_0005_8_5.jpg', 'labels/DJI_0005_8_5.png'), ('input/DJI_0012_5_1.jpg', 'labels/DJI_0012_5_1.png'), ('input/DJI_0005_6_3.jpg', 'labels/DJI_0005_6_3.png'), ('input/DJI_0004_5_1.jpg', 'labels/DJI_0004_5_1.png'), ('input/DJI_0017_7_3.jpg', 'labels/DJI_0017_7_3.png'), ('input/DJI_0024_2_2.jpg', 'labels/DJI_0024_2_2.png'), ('input/DJI_0014_8_2.jpg', 'labels/DJI_0014_8_2.png'), ('input/DJI_0018_4_4.jpg', 'labels/DJI_0018_4_4.png'), ('input/DJI_0025_3_2.jpg', 'labels/DJI_0025_3_2.png'), ('input/DJI_0016_3_1.jpg', 'labels/DJI_0016_3_1.png'), ('input/DJI_0007_7_8.jpg', 'labels/DJI_0007_7_8.png'), ('input/DJI_0012_3_3.jpg', 'labels/DJI_0012_3_3.png'), ('input/DJI_0009_3_3.jpg', 'labels/DJI_0009_3_3.png'), ('input/DJI_0014_7_6.jpg', 'labels/DJI_0014_7_6.png'), ('input/DJI_0019_8_2.jpg', 'labels/DJI_0019_8_2.png'), ('input/DJI_0021_8_1.jpg', 'labels/DJI_0021_8_1.png'), ('input/DJI_0012_4_1.jpg', 'labels/DJI_0012_4_1.png'), ('input/DJI_0009_3_2.jpg', 'labels/DJI_0009_3_2.png'), ('input/DJI_0012_6_1.jpg', 'labels/DJI_0012_6_1.png'), ('input/DJI_0024_3_3.jpg', 'labels/DJI_0024_3_3.png'), ('input/DJI_0022_4_1.jpg', 'labels/DJI_0022_4_1.png'), ('input/DJI_0008_6_1.jpg', 'labels/DJI_0008_6_1.png'), ('input/DJI_0015_8_2.jpg', 'labels/DJI_0015_8_2.png'), ('input/DJI_0013_8_1.jpg', 'labels/DJI_0013_8_1.png'), ('input/DJI_0016_7_3.jpg', 'labels/DJI_0016_7_3.png'), ('input/DJI_0019_1_2.jpg', 'labels/DJI_0019_1_2.png'), ('input/DJI_0010_3_2.jpg', 'labels/DJI_0010_3_2.png'), ('input/DJI_0022_7_2.jpg', 'labels/DJI_0022_7_2.png'), ('input/DJI_0023_6_2.jpg', 'labels/DJI_0023_6_2.png'), ('input/DJI_0024_8_2.jpg', 'labels/DJI_0024_8_2.png'), ('input/DJI_0021_6_2.jpg', 'labels/DJI_0021_6_2.png'), ('input/DJI_0023_8_4.jpg', 'labels/DJI_0023_8_4.png'), ('input/DJI_0023_4_2.jpg', 'labels/DJI_0023_4_2.png'), ('input/DJI_0019_3_3.jpg', 'labels/DJI_0019_3_3.png'), ('input/DJI_0004_7_1.jpg', 'labels/DJI_0004_7_1.png'), ('input/DJI_0022_7_1.jpg', 'labels/DJI_0022_7_1.png'), ('input/DJI_0004_2_1.jpg', 'labels/DJI_0004_2_1.png'), ('input/DJI_0004_4_1.jpg', 'labels/DJI_0004_4_1.png'), ('input/DJI_0011_3_4.jpg', 'labels/DJI_0011_3_4.png'), ('input/DJI_0010_4_1.jpg', 'labels/DJI_0010_4_1.png'), ('input/DJI_0020_7_4.jpg', 'labels/DJI_0020_7_4.png'), ('input/DJI_0021_7_2.jpg', 'labels/DJI_0021_7_2.png'), ('input/DJI_0024_5_2.jpg', 'labels/DJI_0024_5_2.png'), ('input/DJI_0004_3_1.jpg', 'labels/DJI_0004_3_1.png'), ('input/DJI_0014_8_1.jpg', 'labels/DJI_0014_8_1.png'), ('input/DJI_0017_3_4.jpg', 'labels/DJI_0017_3_4.png'), ('input/DJI_0010_1_1.jpg', 'labels/DJI_0010_1_1.png'), ('input/DJI_0024_7_2.jpg', 'labels/DJI_0024_7_2.png'), ('input/DJI_0005_6_1.jpg', 'labels/DJI_0005_6_1.png'), ('input/DJI_0013_1_2.jpg', 'labels/DJI_0013_1_2.png'), ('input/DJI_0020_5_1.jpg', 'labels/DJI_0020_5_1.png'), ('input/DJI_0014_5_2.jpg', 'labels/DJI_0014_5_2.png'), ('input/DJI_0023_4_3.jpg', 'labels/DJI_0023_4_3.png'), ('input/DJI_0016_8_3.jpg', 'labels/DJI_0016_8_3.png'), ('input/DJI_0019_7_2.jpg', 'labels/DJI_0019_7_2.png'), ('input/DJI_0013_7_3.jpg', 'labels/DJI_0013_7_3.png'), ('input/DJI_0021_7_4.jpg', 'labels/DJI_0021_7_4.png'), ('input/DJI_0021_8_4.jpg', 'labels/DJI_0021_8_4.png'), ('input/DJI_0011_2_1.jpg', 'labels/DJI_0011_2_1.png'), ('input/DJI_0019_4_1.jpg', 'labels/DJI_0019_4_1.png'), ('input/DJI_0014_7_3.jpg', 'labels/DJI_0014_7_3.png'), ('input/DJI_0022_5_2.jpg', 'labels/DJI_0022_5_2.png'), ('input/DJI_0022_3_1.jpg', 'labels/DJI_0022_3_1.png'), ('input/DJI_0005_7_3.jpg', 'labels/DJI_0005_7_3.png'), ('input/DJI_0023_2_1.jpg', 'labels/DJI_0023_2_1.png'), ('input/DJI_0018_1_1.jpg', 'labels/DJI_0018_1_1.png'), ('input/DJI_0011_1_2.jpg', 'labels/DJI_0011_1_2.png'), ('input/DJI_0009_5_1.jpg', 'labels/DJI_0009_5_1.png'), ('input/DJI_0009_3_1.jpg', 'labels/DJI_0009_3_1.png'), ('input/DJI_0025_1_1.jpg', 'labels/DJI_0025_1_1.png'), ('input/DJI_0008_7_1.jpg', 'labels/DJI_0008_7_1.png'), ('input/DJI_0020_5_2.jpg', 'labels/DJI_0020_5_2.png'), ('input/DJI_0015_7_2.jpg', 'labels/DJI_0015_7_2.png'), ('input/DJI_0012_7_2.jpg', 'labels/DJI_0012_7_2.png'), ('input/DJI_0016_1_1.jpg', 'labels/DJI_0016_1_1.png'), ('input/DJI_0009_1_1.jpg', 'labels/DJI_0009_1_1.png'), ('input/DJI_0013_5_1.jpg', 'labels/DJI_0013_5_1.png'), ('input/DJI_0021_5_4.jpg', 'labels/DJI_0021_5_4.png'), ('input/DJI_0022_4_2.jpg', 'labels/DJI_0022_4_2.png'), ('input/DJI_0024_3_2.jpg', 'labels/DJI_0024_3_2.png'), ('input/DJI_0011_4_1.jpg', 'labels/DJI_0011_4_1.png'), ('input/DJI_0020_3_1.jpg', 'labels/DJI_0020_3_1.png'), ('input/DJI_0011_3_3.jpg', 'labels/DJI_0011_3_3.png'), ('input/DJI_0024_6_1.jpg', 'labels/DJI_0024_6_1.png'), ('input/DJI_0005_7_4.jpg', 'labels/DJI_0005_7_4.png'), ('input/DJI_0024_8_4.jpg', 'labels/DJI_0024_8_4.png'), ('input/DJI_0011_3_2.jpg', 'labels/DJI_0011_3_2.png'), ('input/DJI_0022_2_1.jpg', 'labels/DJI_0022_2_1.png'), ('input/DJI_0020_3_4.jpg', 'labels/DJI_0020_3_4.png'), ('input/DJI_0019_3_4.jpg', 'labels/DJI_0019_3_4.png'), ('input/DJI_0023_8_2.jpg', 'labels/DJI_0023_8_2.png'), ('input/DJI_0021_5_1.jpg', 'labels/DJI_0021_5_1.png'), ('input/DJI_0009_6_1.jpg', 'labels/DJI_0009_6_1.png'), ('input/DJI_0005_6_4.jpg', 'labels/DJI_0005_6_4.png'), ('input/DJI_0013_3_2.jpg', 'labels/DJI_0013_3_2.png'), ('input/DJI_0015_7_4.jpg', 'labels/DJI_0015_7_4.png'), ('input/DJI_0014_5_3.jpg', 'labels/DJI_0014_5_3.png'), ('input/DJI_0011_1_1.jpg', 'labels/DJI_0011_1_1.png'), ('input/DJI_0016_3_2.jpg', 'labels/DJI_0016_3_2.png'), ('input/DJI_0016_8_2.jpg', 'labels/DJI_0016_8_2.png'), ('input/DJI_0014_7_7.jpg', 'labels/DJI_0014_7_7.png'), ('input/DJI_0023_3_2.jpg', 'labels/DJI_0023_3_2.png'), ('input/DJI_0007_6_1.jpg', 'labels/DJI_0007_6_1.png'), ('input/DJI_0019_5_2.jpg', 'labels/DJI_0019_5_2.png'), ('input/DJI_0021_6_4.jpg', 'labels/DJI_0021_6_4.png'), ('input/DJI_0023_4_1.jpg', 'labels/DJI_0023_4_1.png'), ('input/DJI_0014_8_3.jpg', 'labels/DJI_0014_8_3.png'), ('input/DJI_0012_3_1.jpg', 'labels/DJI_0012_3_1.png'), ('input/DJI_0017_5_2.jpg', 'labels/DJI_0017_5_2.png'), ('input/DJI_0022_6_2.jpg', 'labels/DJI_0022_6_2.png'), ('input/DJI_0017_3_2.jpg', 'labels/DJI_0017_3_2.png'), ('input/DJI_0021_8_2.jpg', 'labels/DJI_0021_8_2.png'), ('input/DJI_0009_2_1.jpg', 'labels/DJI_0009_2_1.png'), ('input/DJI_0018_3_6.jpg', 'labels/DJI_0018_3_6.png'), ('input/DJI_0012_4_2.jpg', 'labels/DJI_0012_4_2.png'), ('input/DJI_0013_7_1.jpg', 'labels/DJI_0013_7_1.png'), ('input/DJI_0014_7_8.jpg', 'labels/DJI_0014_7_8.png'), ('input/DJI_0007_5_1.jpg', 'labels/DJI_0007_5_1.png'), ('input/DJI_0020_4_3.jpg', 'labels/DJI_0020_4_3.png'), ('input/DJI_0023_7_3.jpg', 'labels/DJI_0023_7_3.png'), ('input/DJI_0006_7_2.jpg', 'labels/DJI_0006_7_2.png'), ('input/DJI_0004_1_1.jpg', 'labels/DJI_0004_1_1.png'), ('input/DJI_0023_1_2.jpg', 'labels/DJI_0023_1_2.png'), ('input/DJI_0008_8_1.jpg', 'labels/DJI_0008_8_1.png'), ('input/DJI_0014_7_5.jpg', 'labels/DJI_0014_7_5.png'), ('input/DJI_0018_4_2.jpg', 'labels/DJI_0018_4_2.png'), ('input/DJI_0024_4_3.jpg', 'labels/DJI_0024_4_3.png'), ('input/DJI_0015_7_1.jpg', 'labels/DJI_0015_7_1.png'), ('input/DJI_0004_6_1.jpg', 'labels/DJI_0004_6_1.png'), ('input/DJI_0013_8_3.jpg', 'labels/DJI_0013_8_3.png'), ('input/DJI_0019_2_1.jpg', 'labels/DJI_0019_2_1.png'), ('input/DJI_0018_4_3.jpg', 'labels/DJI_0018_4_3.png'), ('input/DJI_0016_4_1.jpg', 'labels/DJI_0016_4_1.png'), ('input/DJI_0019_7_3.jpg', 'labels/DJI_0019_7_3.png'), ('input/DJI_0023_3_4.jpg', 'labels/DJI_0023_3_4.png'), ('input/DJI_0025_1_4.jpg', 'labels/DJI_0025_1_4.png'), ('input/DJI_0016_4_2.jpg', 'labels/DJI_0016_4_2.png'), ('input/DJI_0004_7_3.jpg', 'labels/DJI_0004_7_3.png'), ('input/DJI_0018_4_1.jpg', 'labels/DJI_0018_4_1.png'), ('input/DJI_0023_5_2.jpg', 'labels/DJI_0023_5_2.png'), ('input/DJI_0024_2_1.jpg', 'labels/DJI_0024_2_1.png'), ('input/DJI_0016_7_1.jpg', 'labels/DJI_0016_7_1.png'), ('input/DJI_0011_4_2.jpg', 'labels/DJI_0011_4_2.png'), ('input/DJI_0013_6_1.jpg', 'labels/DJI_0013_6_1.png'), ('input/DJI_0005_8_3.jpg', 'labels/DJI_0005_8_3.png'), ('input/DJI_0017_1_1.jpg', 'labels/DJI_0017_1_1.png'), ('input/DJI_0015_8_1.jpg', 'labels/DJI_0015_8_1.png'), ('input/DJI_0007_8_5.jpg', 'labels/DJI_0007_8_5.png'), ('input/DJI_0009_7_1.jpg', 'labels/DJI_0009_7_1.png'), ('input/DJI_0004_2_2.jpg', 'labels/DJI_0004_2_2.png'), ('input/DJI_0023_5_3.jpg', 'labels/DJI_0023_5_3.png'), ('input/DJI_0014_5_1.jpg', 'labels/DJI_0014_5_1.png'), ('input/DJI_0017_4_2.jpg', 'labels/DJI_0017_4_2.png'), ('input/DJI_0017_3_1.jpg', 'labels/DJI_0017_3_1.png'), ('input/DJI_0005_7_1.jpg', 'labels/DJI_0005_7_1.png'), ('input/DJI_0019_3_1.jpg', 'labels/DJI_0019_3_1.png'), ('input/DJI_0023_7_1.jpg', 'labels/DJI_0023_7_1.png'), ('input/DJI_0014_7_2.jpg', 'labels/DJI_0014_7_2.png'), ('input/DJI_0016_5_1.jpg', 'labels/DJI_0016_5_1.png'), ('input/DJI_0020_3_3.jpg', 'labels/DJI_0020_3_3.png'), ('input/DJI_0015_7_3.jpg', 'labels/DJI_0015_7_3.png'), ('input/DJI_0019_3_2.jpg', 'labels/DJI_0019_3_2.png'), ('input/DJI_0010_4_3.jpg', 'labels/DJI_0010_4_3.png'), ('input/DJI_0020_6_1.jpg', 'labels/DJI_0020_6_1.png'), ('input/DJI_0021_5_2.jpg', 'labels/DJI_0021_5_2.png'), ('input/DJI_0010_3_1.jpg', 'labels/DJI_0010_3_1.png'), ('input/DJI_0014_8_4.jpg', 'labels/DJI_0014_8_4.png'), ('input/DJI_0012_1_1.jpg', 'labels/DJI_0012_1_1.png'), ('input/DJI_0008_5_1.jpg', 'labels/DJI_0008_5_1.png'), ('input/DJI_0024_3_1.jpg', 'labels/DJI_0024_3_1.png'), ('input/DJI_0009_7_2.jpg', 'labels/DJI_0009_7_2.png'), ('input/DJI_0018_3_7.jpg', 'labels/DJI_0018_3_7.png'), ('input/DJI_0008_7_3.jpg', 'labels/DJI_0008_7_3.png'), ('input/DJI_0024_4_2.jpg', 'labels/DJI_0024_4_2.png'), ('input/DJI_0005_8_4.jpg', 'labels/DJI_0005_8_4.png'), ('input/DJI_0008_8_2.jpg', 'labels/DJI_0008_8_2.png'), ('input/DJI_0010_5_1.jpg', 'labels/DJI_0010_5_1.png'), ('input/DJI_0011_3_1.jpg', 'labels/DJI_0011_3_1.png'), ('input/DJI_0020_2_1.jpg', 'labels/DJI_0020_2_1.png'), ('input/DJI_0005_7_6.jpg', 'labels/DJI_0005_7_6.png'), ('input/DJI_0020_4_1.jpg', 'labels/DJI_0020_4_1.png'), ('input/DJI_0022_8_4.jpg', 'labels/DJI_0022_8_4.png'), ('input/DJI_0012_3_2.jpg', 'labels/DJI_0012_3_2.png'), ('input/DJI_0023_3_1.jpg', 'labels/DJI_0023_3_1.png'), ('input/DJI_0021_7_3.jpg', 'labels/DJI_0021_7_3.png'), ('input/DJI_0012_7_1.jpg', 'labels/DJI_0012_7_1.png'), ('input/DJI_0009_5_2.jpg', 'labels/DJI_0009_5_2.png'), ('input/DJI_0013_3_3.jpg', 'labels/DJI_0013_3_3.png'), ('input/DJI_0018_3_5.jpg', 'labels/DJI_0018_3_5.png'), ('input/DJI_0019_4_2.jpg', 'labels/DJI_0019_4_2.png'), ('input/DJI_0018_1_3.jpg', 'labels/DJI_0018_1_3.png'), ('input/DJI_0019_7_4.jpg', 'labels/DJI_0019_7_4.png'), ('input/DJI_0020_1_1.jpg', 'labels/DJI_0020_1_1.png'), ('input/DJI_0013_2_1.jpg', 'labels/DJI_0013_2_1.png'), ('input/DJI_0013_1_1.jpg', 'labels/DJI_0013_1_1.png'), ('input/DJI_0014_7_1.jpg', 'labels/DJI_0014_7_1.png'), ('input/DJI_0010_3_3.jpg', 'labels/DJI_0010_3_3.png'), ('input/DJI_0017_7_1.jpg', 'labels/DJI_0017_7_1.png'), ('input/DJI_0021_6_1.jpg', 'labels/DJI_0021_6_1.png'), ('input/DJI_0019_6_1.jpg', 'labels/DJI_0019_6_1.png'), ('input/DJI_0025_2_3.jpg', 'labels/DJI_0025_2_3.png'), ('input/DJI_0016_6_2.jpg', 'labels/DJI_0016_6_2.png'), ('input/DJI_0018_1_2.jpg', 'labels/DJI_0018_1_2.png'), ('input/DJI_0019_7_1.jpg', 'labels/DJI_0019_7_1.png'), ('input/DJI_0021_7_1.jpg', 'labels/DJI_0021_7_1.png'), ('input/DJI_0014_7_4.jpg', 'labels/DJI_0014_7_4.png'), ('input/DJI_0016_8_1.jpg', 'labels/DJI_0016_8_1.png'), ('input/DJI_0013_3_1.jpg', 'labels/DJI_0013_3_1.png'), ('input/DJI_0004_3_2.jpg', 'labels/DJI_0004_3_2.png'), ('input/DJI_0015_8_3.jpg', 'labels/DJI_0015_8_3.png'), ('input/DJI_0019_1_1.jpg', 'labels/DJI_0019_1_1.png'), ('input/DJI_0009_7_3.jpg', 'labels/DJI_0009_7_3.png'), ('input/DJI_0019_5_1.jpg', 'labels/DJI_0019_5_1.png'), ('input/DJI_0015_5_1.jpg', 'labels/DJI_0015_5_1.png'), ('input/DJI_0021_6_3.jpg', 'labels/DJI_0021_6_3.png')]\n"
     ]
    }
   ],
   "source": [
    "# inputファイルとlabelsに存在しているファイルを取得\n",
    "input_dir, label_dir = 'input','labels'\n",
    "in_files = glob.glob(input_dir+'/*.jpg')\n",
    "label_files = glob.glob(label_dir+'/*.png')\n",
    "in_f = [f.split('/')[-1].split('.')[-2] for f in in_files ]\n",
    "lb_f = [f.split('/')[-1].split('.')[-2] for f in label_files ]\n",
    "f_name = set(in_f) & set(lb_f)\n",
    "print('deta count : ',len(list(f_name)))\n",
    "\n",
    "input_files, annotation_files = [], []\n",
    "for i in list(f_name):\n",
    "    input_files.append(input_dir+'/'+i+'.jpg')\n",
    "    annotation_files.append(label_dir+'/'+i+'.png')\n",
    "datafiles = list(zip(input_files, annotation_files))\n",
    "print(datafiles)"
   ]
  },
  {
   "cell_type": "code",
   "execution_count": 21,
   "metadata": {},
   "outputs": [],
   "source": [
    "class DataTransform():\n",
    "    def __init__(self, input_size, color_mean, color_std):\n",
    "        self.data_transform = {\n",
    "            'train': Compose([\n",
    "                Scale(scale=[0.5, 1.5]),  # 画像の拡大\n",
    "                RandomRotation(angle=[-10, 10]),  # 回転\n",
    "                RandomMirror(),  # ランダムミラー\n",
    "                Resize(input_size),  # リサイズ(input_size)\n",
    "                Normalize_Tensor(color_mean, color_std)  # 色情報の標準化とテンソル化\n",
    "            ]),\n",
    "            'val': Compose([\n",
    "                Resize(input_size),  # リサイズ(input_size)\n",
    "                Normalize_Tensor(color_mean, color_std)  # 色情報の標準化とテンソル化\n",
    "            ])\n",
    "        }\n",
    "\n",
    "    def __call__(self, phase, img, anno_class_img):\n",
    "        return self.data_transform[phase](img, anno_class_img)"
   ]
  },
  {
   "cell_type": "code",
   "execution_count": 22,
   "metadata": {},
   "outputs": [],
   "source": [
    "class VOCDataset(Dataset):\n",
    "    def __init__(self, img_list, anno_list, phase, transform):\n",
    "        self.img_list = img_list\n",
    "        self.anno_list = anno_list\n",
    "        self.phase = phase\n",
    "        self.transform = transform\n",
    "\n",
    "    def __len__(self):\n",
    "        return len(self.img_list)\n",
    "\n",
    "    def __getitem__(self, index):\n",
    "        img, anno_class_img = self.pull_item(index)\n",
    "        return img, anno_class_img\n",
    "\n",
    "    def pull_item(self, index):\n",
    "        image_file_path = self.img_list[index]\n",
    "        img = Image.open(image_file_path)   # [高さ][幅][色RGB]\n",
    "        anno_file_path = self.anno_list[index]\n",
    "        anno_class_img = Image.open(anno_file_path)   # [高さ][幅]\n",
    "        img, anno_class_img = self.transform(self.phase, img, anno_class_img)\n",
    "        return img, anno_class_img"
   ]
  },
  {
   "cell_type": "code",
   "execution_count": 23,
   "metadata": {},
   "outputs": [
    {
     "name": "stdout",
     "output_type": "stream",
     "text": [
      "input   :: train: 227 , test: 57\n",
      "annotation  :: train: 227 , test: 57\n",
      "torch.Size([3, 475, 475])\n",
      "torch.Size([475, 475])\n",
      "(tensor([[[-1.1932, -1.1760, -1.1760,  ..., -1.4329, -1.4329, -1.4329],\n",
      "         [-1.1932, -1.1760, -1.1760,  ..., -1.4329, -1.4329, -1.4329],\n",
      "         [-1.1932, -1.1760, -1.1760,  ..., -1.4329, -1.4329, -1.4329],\n",
      "         ...,\n",
      "         [-1.3130, -1.3130, -1.3130,  ..., -1.3302, -1.3302, -1.3302],\n",
      "         [-1.3130, -1.3130, -1.3130,  ..., -1.3302, -1.3302, -1.3302],\n",
      "         [-1.3130, -1.3130, -1.3130,  ..., -1.3302, -1.3302, -1.3302]],\n",
      "\n",
      "        [[-0.4076, -0.3901, -0.3901,  ..., -0.4251, -0.4251, -0.4251],\n",
      "         [-0.4076, -0.3901, -0.3901,  ..., -0.4251, -0.4251, -0.4251],\n",
      "         [-0.4076, -0.3901, -0.3901,  ..., -0.4251, -0.4251, -0.4251],\n",
      "         ...,\n",
      "         [-1.1604, -1.1604, -1.1604,  ..., -1.2129, -1.2129, -1.2129],\n",
      "         [-1.1604, -1.1604, -1.1604,  ..., -1.2129, -1.2129, -1.2129],\n",
      "         [-1.1604, -1.1604, -1.1604,  ..., -1.2129, -1.2129, -1.2129]],\n",
      "\n",
      "        [[ 1.4897,  1.5071,  1.5071,  ...,  0.7751,  0.7751,  0.7751],\n",
      "         [ 1.4897,  1.5071,  1.5071,  ...,  0.7925,  0.7925,  0.7925],\n",
      "         [ 1.4722,  1.4897,  1.4897,  ...,  0.7925,  0.7925,  0.7925],\n",
      "         ...,\n",
      "         [-0.8458, -0.8458, -0.8458,  ..., -0.8981, -0.8981, -0.8981],\n",
      "         [-0.8458, -0.8458, -0.8458,  ..., -0.8981, -0.8981, -0.8981],\n",
      "         [-0.8458, -0.8458, -0.8458,  ..., -0.8981, -0.8981, -0.8981]]]), tensor([[0, 0, 0,  ..., 0, 0, 0],\n",
      "        [0, 0, 0,  ..., 0, 0, 0],\n",
      "        [0, 0, 0,  ..., 0, 0, 0],\n",
      "        ...,\n",
      "        [0, 0, 0,  ..., 0, 0, 0],\n",
      "        [0, 0, 0,  ..., 0, 0, 0],\n",
      "        [0, 0, 0,  ..., 0, 0, 0]], dtype=torch.uint8))\n"
     ]
    }
   ],
   "source": [
    "# 動作確認\n",
    "num_train = math.floor(len(datafiles)*0.8)\n",
    "num_test = len(datafiles)-num_train\n",
    "num_all = num_train + num_test\n",
    "\n",
    "def split_train_test(data):\n",
    "    id_all   = np.random.choice(num_all, num_all, replace=False)\n",
    "    id_test  = id_all[0:num_test]\n",
    "    id_train = id_all[num_test:num_all]\n",
    "    test_data  = data[id_test]\n",
    "    train_data = data[id_train]\n",
    "    return train_data, test_data\n",
    "    \n",
    "train_list, test_list = split_train_test(np.asarray(datafiles))\n",
    "input_train, annotation_train = train_list[:,0], train_list[:,1]\n",
    "input_val, annotation_val = test_list[:,0], test_list[:,1]\n",
    "\n",
    "print('input   :: train: %d , test: %d'%(len(input_train), len(input_val)))\n",
    "print('annotation  :: train: %d , test: %d'%(len(annotation_train), len(annotation_val)))\n",
    "\n",
    "# (RGB)の色の平均値と標準偏差\n",
    "color_mean = (0.485, 0.456, 0.406)\n",
    "color_std = (0.229, 0.224, 0.225)\n",
    "\n",
    "# データセット作成\n",
    "train_dataset = VOCDataset(input_train, annotation_train, phase=\"train\", transform=DataTransform(\n",
    "    input_size=475, color_mean=color_mean, color_std=color_std))\n",
    "\n",
    "val_dataset = VOCDataset(input_val, annotation_val, phase=\"val\", transform=DataTransform(\n",
    "    input_size=475, color_mean=color_mean, color_std=color_std))\n",
    "\n",
    "# データの取り出し例\n",
    "print(val_dataset.__getitem__(0)[0].shape)\n",
    "print(val_dataset.__getitem__(0)[1].shape)\n",
    "print(val_dataset.__getitem__(0))"
   ]
  },
  {
   "cell_type": "code",
   "execution_count": 24,
   "metadata": {},
   "outputs": [],
   "source": [
    "# データローダーの作成\n",
    "\n",
    "batch_size = 8\n",
    "\n",
    "train_dataloader = DataLoader(\n",
    "    train_dataset, batch_size=batch_size, shuffle=True)\n",
    "\n",
    "val_dataloader = DataLoader(\n",
    "    val_dataset, batch_size=batch_size, shuffle=False)\n",
    "\n",
    "# 辞書オブジェクトにまとめる\n",
    "dataloaders_dict = {\"train\": train_dataloader, \"val\": val_dataloader}\n",
    "\n",
    "# 動作の確認\n",
    "# batch_iterator = iter(dataloaders_dict[\"val\"])  # イタレータに変換\n",
    "# imges, anno_class_imges = next(batch_iterator)  # 1番目の要素を取り出す\n",
    "# print(imges.size())  # torch.Size([8, 3, 475, 475])\n",
    "# print(anno_class_imges.size())  # torch.Size([8, 3, 475, 475])"
   ]
  },
  {
   "cell_type": "code",
   "execution_count": 25,
   "metadata": {},
   "outputs": [
    {
     "name": "stdout",
     "output_type": "stream",
     "text": [
      "\n",
      "--------model not restored--------\n",
      "\n"
     ]
    }
   ],
   "source": [
    "try:\n",
    "    generator = torch.load('./model/{}.pkl'.format(args.network))\n",
    "    print(\"\\n--------model restored--------\\n\")\n",
    "except:\n",
    "    print(\"\\n--------model not restored--------\\n\")\n",
    "    pass"
   ]
  },
  {
   "cell_type": "code",
   "execution_count": 27,
   "metadata": {},
   "outputs": [
    {
     "name": "stdout",
     "output_type": "stream",
     "text": [
      "Collecting package metadata: done\n",
      "Solving environment: failed\n",
      "\n",
      "PackagesNotFoundError: The following packages are not available from current channels:\n",
      "\n",
      "  - torchsummary\n",
      "\n",
      "Current channels:\n",
      "\n",
      "  - https://repo.anaconda.com/pkgs/main/linux-64\n",
      "  - https://repo.anaconda.com/pkgs/main/noarch\n",
      "  - https://repo.anaconda.com/pkgs/free/linux-64\n",
      "  - https://repo.anaconda.com/pkgs/free/noarch\n",
      "  - https://repo.anaconda.com/pkgs/r/linux-64\n",
      "  - https://repo.anaconda.com/pkgs/r/noarch\n",
      "\n",
      "To search for alternate channels that may provide the conda package you're\n",
      "looking for, navigate to\n",
      "\n",
      "    https://anaconda.org\n",
      "\n",
      "and use the search bar at the top of the page.\n",
      "\n",
      "\n"
     ]
    }
   ],
   "source": [
    "!conda install torchsummary"
   ]
  },
  {
   "cell_type": "code",
   "execution_count": 31,
   "metadata": {},
   "outputs": [],
   "source": [
    "device = torch.device('cuda' if torch.cuda.is_available() else 'cpu')\n",
    "model = ResNetUNet(n_class=2)\n",
    "model = model.to(device)\n",
    "\n",
    "# check keras-like model summary using torchsummary\n",
    "from torchsummary import summary\n"
   ]
  },
  {
   "cell_type": "code",
   "execution_count": 74,
   "metadata": {},
   "outputs": [
    {
     "name": "stdout",
     "output_type": "stream",
     "text": [
      "cuda:0\n"
     ]
    }
   ],
   "source": [
    "device = torch.device('cuda:0' if torch.cuda.is_available() else 'cpu')\n",
    "print(device)"
   ]
  },
  {
   "cell_type": "code",
   "execution_count": 75,
   "metadata": {},
   "outputs": [],
   "source": [
    "def training(dataloaders_dict, num_epochs):\n",
    "    \n",
    "    for i in range(num_epochs):\n",
    "        \n",
    "        phase = 'train'\n",
    "        gen_optimizer.zero_grad()\n",
    "        \n",
    "        for _,(image, label) in enumerate(dataloaders_dict[phase]):\n",
    "            satel_image, map_image = torch.chunk(image, chunks=2, dim=3) \n",
    "            \n",
    "            x = Variable(satel_image).cuda(0)\n",
    "            y_ = Variable(map_image).cuda(0)\n",
    "            y = generator.forward(x)\n",
    "            \n",
    "            loss = recon_loss_func(y,y_)\n",
    "            file.write(str(loss)+\"\\n\")\n",
    "            loss.backward()\n",
    "            gen_optimizer.step()\n",
    "            \n",
    "            if _ % 400 ==0:\n",
    "                print(i)\n",
    "                print(loss)\n",
    "                v_utils.save_image(x.cpu().data,\"./result/original_image_{}_{}.png\".format(i,_))\n",
    "                v_utils.save_image(y_.cpu().data,\"./result/label_image_{}_{}.png\".format(i,_))\n",
    "                v_utils.save_image(y.cpu().data,\"./result/gen_image_{}_{}.png\".format(i,_))\n",
    "                torch.save(generator,'./model/{}.pkl'.format(args.network))    \n"
   ]
  },
  {
   "cell_type": "code",
   "execution_count": 76,
   "metadata": {},
   "outputs": [
    {
     "ename": "RuntimeError",
     "evalue": "invalid argument 0: Sizes of tensors must match except in dimension 1. Got 59 and 58 in dimension 2 at /opt/conda/conda-bld/pytorch_1579022034529/work/aten/src/THC/generic/THCTensorMath.cu:71",
     "output_type": "error",
     "traceback": [
      "\u001b[0;31m---------------------------------------------------------------------------\u001b[0m",
      "\u001b[0;31mRuntimeError\u001b[0m                              Traceback (most recent call last)",
      "\u001b[0;32m<ipython-input-76-6ae6354571f2>\u001b[0m in \u001b[0;36m<module>\u001b[0;34m\u001b[0m\n\u001b[0;32m----> 1\u001b[0;31m \u001b[0mtraining\u001b[0m\u001b[0;34m(\u001b[0m\u001b[0mdataloaders_dict\u001b[0m\u001b[0;34m,\u001b[0m \u001b[0;36m100\u001b[0m\u001b[0;34m)\u001b[0m\u001b[0;34m\u001b[0m\u001b[0;34m\u001b[0m\u001b[0m\n\u001b[0m",
      "\u001b[0;32m<ipython-input-75-82388d67a21e>\u001b[0m in \u001b[0;36mtraining\u001b[0;34m(dataloaders_dict, num_epochs)\u001b[0m\n\u001b[1;32m     11\u001b[0m             \u001b[0mx\u001b[0m \u001b[0;34m=\u001b[0m \u001b[0mVariable\u001b[0m\u001b[0;34m(\u001b[0m\u001b[0msatel_image\u001b[0m\u001b[0;34m)\u001b[0m\u001b[0;34m.\u001b[0m\u001b[0mcuda\u001b[0m\u001b[0;34m(\u001b[0m\u001b[0;36m0\u001b[0m\u001b[0;34m)\u001b[0m\u001b[0;34m\u001b[0m\u001b[0;34m\u001b[0m\u001b[0m\n\u001b[1;32m     12\u001b[0m             \u001b[0my_\u001b[0m \u001b[0;34m=\u001b[0m \u001b[0mVariable\u001b[0m\u001b[0;34m(\u001b[0m\u001b[0mmap_image\u001b[0m\u001b[0;34m)\u001b[0m\u001b[0;34m.\u001b[0m\u001b[0mcuda\u001b[0m\u001b[0;34m(\u001b[0m\u001b[0;36m0\u001b[0m\u001b[0;34m)\u001b[0m\u001b[0;34m\u001b[0m\u001b[0;34m\u001b[0m\u001b[0m\n\u001b[0;32m---> 13\u001b[0;31m             \u001b[0my\u001b[0m \u001b[0;34m=\u001b[0m \u001b[0mgenerator\u001b[0m\u001b[0;34m.\u001b[0m\u001b[0mforward\u001b[0m\u001b[0;34m(\u001b[0m\u001b[0mx\u001b[0m\u001b[0;34m)\u001b[0m\u001b[0;34m\u001b[0m\u001b[0;34m\u001b[0m\u001b[0m\n\u001b[0m\u001b[1;32m     14\u001b[0m \u001b[0;34m\u001b[0m\u001b[0m\n\u001b[1;32m     15\u001b[0m             \u001b[0mloss\u001b[0m \u001b[0;34m=\u001b[0m \u001b[0mrecon_loss_func\u001b[0m\u001b[0;34m(\u001b[0m\u001b[0my\u001b[0m\u001b[0;34m,\u001b[0m\u001b[0my_\u001b[0m\u001b[0;34m)\u001b[0m\u001b[0;34m\u001b[0m\u001b[0;34m\u001b[0m\u001b[0m\n",
      "\u001b[0;32m~/anaconda3/envs/pytorch/lib/python3.6/site-packages/torch/nn/parallel/data_parallel.py\u001b[0m in \u001b[0;36mforward\u001b[0;34m(self, *inputs, **kwargs)\u001b[0m\n\u001b[1;32m    148\u001b[0m         \u001b[0minputs\u001b[0m\u001b[0;34m,\u001b[0m \u001b[0mkwargs\u001b[0m \u001b[0;34m=\u001b[0m \u001b[0mself\u001b[0m\u001b[0;34m.\u001b[0m\u001b[0mscatter\u001b[0m\u001b[0;34m(\u001b[0m\u001b[0minputs\u001b[0m\u001b[0;34m,\u001b[0m \u001b[0mkwargs\u001b[0m\u001b[0;34m,\u001b[0m \u001b[0mself\u001b[0m\u001b[0;34m.\u001b[0m\u001b[0mdevice_ids\u001b[0m\u001b[0;34m)\u001b[0m\u001b[0;34m\u001b[0m\u001b[0;34m\u001b[0m\u001b[0m\n\u001b[1;32m    149\u001b[0m         \u001b[0;32mif\u001b[0m \u001b[0mlen\u001b[0m\u001b[0;34m(\u001b[0m\u001b[0mself\u001b[0m\u001b[0;34m.\u001b[0m\u001b[0mdevice_ids\u001b[0m\u001b[0;34m)\u001b[0m \u001b[0;34m==\u001b[0m \u001b[0;36m1\u001b[0m\u001b[0;34m:\u001b[0m\u001b[0;34m\u001b[0m\u001b[0;34m\u001b[0m\u001b[0m\n\u001b[0;32m--> 150\u001b[0;31m             \u001b[0;32mreturn\u001b[0m \u001b[0mself\u001b[0m\u001b[0;34m.\u001b[0m\u001b[0mmodule\u001b[0m\u001b[0;34m(\u001b[0m\u001b[0;34m*\u001b[0m\u001b[0minputs\u001b[0m\u001b[0;34m[\u001b[0m\u001b[0;36m0\u001b[0m\u001b[0;34m]\u001b[0m\u001b[0;34m,\u001b[0m \u001b[0;34m**\u001b[0m\u001b[0mkwargs\u001b[0m\u001b[0;34m[\u001b[0m\u001b[0;36m0\u001b[0m\u001b[0;34m]\u001b[0m\u001b[0;34m)\u001b[0m\u001b[0;34m\u001b[0m\u001b[0;34m\u001b[0m\u001b[0m\n\u001b[0m\u001b[1;32m    151\u001b[0m         \u001b[0mreplicas\u001b[0m \u001b[0;34m=\u001b[0m \u001b[0mself\u001b[0m\u001b[0;34m.\u001b[0m\u001b[0mreplicate\u001b[0m\u001b[0;34m(\u001b[0m\u001b[0mself\u001b[0m\u001b[0;34m.\u001b[0m\u001b[0mmodule\u001b[0m\u001b[0;34m,\u001b[0m \u001b[0mself\u001b[0m\u001b[0;34m.\u001b[0m\u001b[0mdevice_ids\u001b[0m\u001b[0;34m[\u001b[0m\u001b[0;34m:\u001b[0m\u001b[0mlen\u001b[0m\u001b[0;34m(\u001b[0m\u001b[0minputs\u001b[0m\u001b[0;34m)\u001b[0m\u001b[0;34m]\u001b[0m\u001b[0;34m)\u001b[0m\u001b[0;34m\u001b[0m\u001b[0;34m\u001b[0m\u001b[0m\n\u001b[1;32m    152\u001b[0m         \u001b[0moutputs\u001b[0m \u001b[0;34m=\u001b[0m \u001b[0mself\u001b[0m\u001b[0;34m.\u001b[0m\u001b[0mparallel_apply\u001b[0m\u001b[0;34m(\u001b[0m\u001b[0mreplicas\u001b[0m\u001b[0;34m,\u001b[0m \u001b[0minputs\u001b[0m\u001b[0;34m,\u001b[0m \u001b[0mkwargs\u001b[0m\u001b[0;34m)\u001b[0m\u001b[0;34m\u001b[0m\u001b[0;34m\u001b[0m\u001b[0m\n",
      "\u001b[0;32m~/anaconda3/envs/pytorch/lib/python3.6/site-packages/torch/nn/modules/module.py\u001b[0m in \u001b[0;36m__call__\u001b[0;34m(self, *input, **kwargs)\u001b[0m\n\u001b[1;32m    530\u001b[0m             \u001b[0mresult\u001b[0m \u001b[0;34m=\u001b[0m \u001b[0mself\u001b[0m\u001b[0;34m.\u001b[0m\u001b[0m_slow_forward\u001b[0m\u001b[0;34m(\u001b[0m\u001b[0;34m*\u001b[0m\u001b[0minput\u001b[0m\u001b[0;34m,\u001b[0m \u001b[0;34m**\u001b[0m\u001b[0mkwargs\u001b[0m\u001b[0;34m)\u001b[0m\u001b[0;34m\u001b[0m\u001b[0;34m\u001b[0m\u001b[0m\n\u001b[1;32m    531\u001b[0m         \u001b[0;32melse\u001b[0m\u001b[0;34m:\u001b[0m\u001b[0;34m\u001b[0m\u001b[0;34m\u001b[0m\u001b[0m\n\u001b[0;32m--> 532\u001b[0;31m             \u001b[0mresult\u001b[0m \u001b[0;34m=\u001b[0m \u001b[0mself\u001b[0m\u001b[0;34m.\u001b[0m\u001b[0mforward\u001b[0m\u001b[0;34m(\u001b[0m\u001b[0;34m*\u001b[0m\u001b[0minput\u001b[0m\u001b[0;34m,\u001b[0m \u001b[0;34m**\u001b[0m\u001b[0mkwargs\u001b[0m\u001b[0;34m)\u001b[0m\u001b[0;34m\u001b[0m\u001b[0;34m\u001b[0m\u001b[0m\n\u001b[0m\u001b[1;32m    533\u001b[0m         \u001b[0;32mfor\u001b[0m \u001b[0mhook\u001b[0m \u001b[0;32min\u001b[0m \u001b[0mself\u001b[0m\u001b[0;34m.\u001b[0m\u001b[0m_forward_hooks\u001b[0m\u001b[0;34m.\u001b[0m\u001b[0mvalues\u001b[0m\u001b[0;34m(\u001b[0m\u001b[0;34m)\u001b[0m\u001b[0;34m:\u001b[0m\u001b[0;34m\u001b[0m\u001b[0;34m\u001b[0m\u001b[0m\n\u001b[1;32m    534\u001b[0m             \u001b[0mhook_result\u001b[0m \u001b[0;34m=\u001b[0m \u001b[0mhook\u001b[0m\u001b[0;34m(\u001b[0m\u001b[0mself\u001b[0m\u001b[0;34m,\u001b[0m \u001b[0minput\u001b[0m\u001b[0;34m,\u001b[0m \u001b[0mresult\u001b[0m\u001b[0;34m)\u001b[0m\u001b[0;34m\u001b[0m\u001b[0;34m\u001b[0m\u001b[0m\n",
      "\u001b[0;32m/media/dlpc2/30FC49E1FC49A1C8/2020Data/project/solar_segmentation/uNet/UNet.py\u001b[0m in \u001b[0;36mforward\u001b[0;34m(self, input)\u001b[0m\n\u001b[1;32m     50\u001b[0m \u001b[0;34m\u001b[0m\u001b[0m\n\u001b[1;32m     51\u001b[0m                 \u001b[0mtrans_1\u001b[0m \u001b[0;34m=\u001b[0m \u001b[0mself\u001b[0m\u001b[0;34m.\u001b[0m\u001b[0mtrans_1\u001b[0m\u001b[0;34m(\u001b[0m\u001b[0mbridge\u001b[0m\u001b[0;34m)\u001b[0m\u001b[0;34m\u001b[0m\u001b[0;34m\u001b[0m\u001b[0m\n\u001b[0;32m---> 52\u001b[0;31m                 \u001b[0mconcat_1\u001b[0m \u001b[0;34m=\u001b[0m \u001b[0mtorch\u001b[0m\u001b[0;34m.\u001b[0m\u001b[0mcat\u001b[0m\u001b[0;34m(\u001b[0m\u001b[0;34m[\u001b[0m\u001b[0mtrans_1\u001b[0m\u001b[0;34m,\u001b[0m\u001b[0mdown_4\u001b[0m\u001b[0;34m]\u001b[0m\u001b[0;34m,\u001b[0m\u001b[0mdim\u001b[0m\u001b[0;34m=\u001b[0m\u001b[0;36m1\u001b[0m\u001b[0;34m)\u001b[0m\u001b[0;34m\u001b[0m\u001b[0;34m\u001b[0m\u001b[0m\n\u001b[0m\u001b[1;32m     53\u001b[0m                 \u001b[0mup_1\u001b[0m \u001b[0;34m=\u001b[0m \u001b[0mself\u001b[0m\u001b[0;34m.\u001b[0m\u001b[0mup_1\u001b[0m\u001b[0;34m(\u001b[0m\u001b[0mconcat_1\u001b[0m\u001b[0;34m)\u001b[0m\u001b[0;34m\u001b[0m\u001b[0;34m\u001b[0m\u001b[0m\n\u001b[1;32m     54\u001b[0m                 \u001b[0mtrans_2\u001b[0m \u001b[0;34m=\u001b[0m \u001b[0mself\u001b[0m\u001b[0;34m.\u001b[0m\u001b[0mtrans_2\u001b[0m\u001b[0;34m(\u001b[0m\u001b[0mup_1\u001b[0m\u001b[0;34m)\u001b[0m\u001b[0;34m\u001b[0m\u001b[0;34m\u001b[0m\u001b[0m\n",
      "\u001b[0;31mRuntimeError\u001b[0m: invalid argument 0: Sizes of tensors must match except in dimension 1. Got 59 and 58 in dimension 2 at /opt/conda/conda-bld/pytorch_1579022034529/work/aten/src/THC/generic/THCTensorMath.cu:71"
     ]
    }
   ],
   "source": [
    "training(dataloaders_dict, 100)"
   ]
  },
  {
   "cell_type": "code",
   "execution_count": null,
   "metadata": {},
   "outputs": [],
   "source": []
  },
  {
   "cell_type": "code",
   "execution_count": null,
   "metadata": {},
   "outputs": [],
   "source": []
  },
  {
   "cell_type": "code",
   "execution_count": null,
   "metadata": {},
   "outputs": [],
   "source": []
  }
 ],
 "metadata": {
  "kernelspec": {
   "display_name": "Python 3",
   "language": "python",
   "name": "python3"
  },
  "language_info": {
   "codemirror_mode": {
    "name": "ipython",
    "version": 3
   },
   "file_extension": ".py",
   "mimetype": "text/x-python",
   "name": "python",
   "nbconvert_exporter": "python",
   "pygments_lexer": "ipython3",
   "version": "3.6.10"
  }
 },
 "nbformat": 4,
 "nbformat_minor": 4
}
